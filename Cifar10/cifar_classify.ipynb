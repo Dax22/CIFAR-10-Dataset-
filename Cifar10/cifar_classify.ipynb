{
  "nbformat": 4,
  "nbformat_minor": 0,
  "metadata": {
    "colab": {
      "provenance": []
    },
    "kernelspec": {
      "name": "python3",
      "display_name": "Python 3"
    },
    "language_info": {
      "name": "python"
    },
    "accelerator": "GPU",
    "gpuClass": "standard"
  },
  "cells": [
    {
      "cell_type": "code",
      "execution_count": 40,
      "metadata": {
        "id": "kVjUEyWz-d_f"
      },
      "outputs": [],
      "source": [
        "\n",
        "# import the package\n",
        "import tensorflow as tf\n",
        "from tensorflow.keras.datasets import cifar10 \n",
        "import numpy as np "
      ]
    },
    {
      "cell_type": "code",
      "source": [
        "# split the train and test set\n",
        "(X_train , y_train) , (X_test , y_test) = cifar10.load_data()"
      ],
      "metadata": {
        "id": "HeDWWraP-eYc"
      },
      "execution_count": 41,
      "outputs": []
    },
    {
      "cell_type": "code",
      "source": [
        "X_train.shape "
      ],
      "metadata": {
        "colab": {
          "base_uri": "https://localhost:8080/"
        },
        "id": "mS9DyY7y-pw8",
        "outputId": "6fb7c4fc-d10f-4cc2-d882-cc05837b2691"
      },
      "execution_count": 42,
      "outputs": [
        {
          "output_type": "execute_result",
          "data": {
            "text/plain": [
              "(50000, 32, 32, 3)"
            ]
          },
          "metadata": {},
          "execution_count": 42
        }
      ]
    },
    {
      "cell_type": "code",
      "source": [
        "y_train[:5] # it a two dimension array but \n",
        "# we want only index of classes value like\n",
        "#  6 is frog etc so reshape it"
      ],
      "metadata": {
        "colab": {
          "base_uri": "https://localhost:8080/"
        },
        "id": "GLNTHjm2-vZ-",
        "outputId": "7fca558b-180c-4a13-b7a9-caad455cd170"
      },
      "execution_count": 43,
      "outputs": [
        {
          "output_type": "execute_result",
          "data": {
            "text/plain": [
              "array([[6],\n",
              "       [9],\n",
              "       [9],\n",
              "       [4],\n",
              "       [1]], dtype=uint8)"
            ]
          },
          "metadata": {},
          "execution_count": 43
        }
      ]
    },
    {
      "cell_type": "code",
      "source": [
        "\n",
        "classes = [\"airplane\", \"automobile\" , \"bird\" , \"cat\" , \"deer\" , \"dog\" , \"frog\" , \"horse\" , \"ship\" , \"truck\"]"
      ],
      "metadata": {
        "id": "rDO4mDLN-yld"
      },
      "execution_count": 44,
      "outputs": []
    },
    {
      "cell_type": "code",
      "source": [
        "\n",
        "# Normalize the data\n",
        "X_train = X_train / 255\n",
        "X_test = X_test / 255"
      ],
      "metadata": {
        "id": "4zsm7EQ7-5-c"
      },
      "execution_count": 45,
      "outputs": []
    },
    {
      "cell_type": "code",
      "source": [
        "\n",
        "# Build a model\n",
        "from tensorflow.keras.layers import Conv2D , MaxPooling2D , Flatten , Dense , Dropout\n",
        "from tensorflow.keras.models import Sequential\n",
        "\n",
        "model = Sequential([\n",
        "    Conv2D(32 , (3,3) , activation=\"relu\" ,input_shape = (32,32,3)),\n",
        "    MaxPooling2D(pool_size= (2,2)),\n",
        "\n",
        "    Conv2D(64 , (3,3) , activation=\"relu\"),\n",
        "    MaxPooling2D(pool_size= (2,2)),\n",
        "\n",
        "    Conv2D(64 , (3,3) , activation=\"relu\"),\n",
        "    MaxPooling2D(pool_size= (2,2)),\n",
        "\n",
        "    Flatten(),\n",
        "    Dense(64 , activation=\"relu\"),\n",
        "    Dense(10  ,activation=\"softmax\")\n",
        "])"
      ],
      "metadata": {
        "id": "l9u-jlMv-8C4"
      },
      "execution_count": 46,
      "outputs": []
    },
    {
      "cell_type": "code",
      "source": [
        "\n",
        "model.summary()"
      ],
      "metadata": {
        "colab": {
          "base_uri": "https://localhost:8080/"
        },
        "id": "vcAigUVR_D2o",
        "outputId": "a45a6a2b-99e0-4d5e-ecd4-4632da207d93"
      },
      "execution_count": 47,
      "outputs": [
        {
          "output_type": "stream",
          "name": "stdout",
          "text": [
            "Model: \"sequential_2\"\n",
            "_________________________________________________________________\n",
            " Layer (type)                Output Shape              Param #   \n",
            "=================================================================\n",
            " conv2d_6 (Conv2D)           (None, 30, 30, 32)        896       \n",
            "                                                                 \n",
            " max_pooling2d_6 (MaxPooling  (None, 15, 15, 32)       0         \n",
            " 2D)                                                             \n",
            "                                                                 \n",
            " conv2d_7 (Conv2D)           (None, 13, 13, 64)        18496     \n",
            "                                                                 \n",
            " max_pooling2d_7 (MaxPooling  (None, 6, 6, 64)         0         \n",
            " 2D)                                                             \n",
            "                                                                 \n",
            " conv2d_8 (Conv2D)           (None, 4, 4, 64)          36928     \n",
            "                                                                 \n",
            " max_pooling2d_8 (MaxPooling  (None, 2, 2, 64)         0         \n",
            " 2D)                                                             \n",
            "                                                                 \n",
            " flatten_2 (Flatten)         (None, 256)               0         \n",
            "                                                                 \n",
            " dense_4 (Dense)             (None, 64)                16448     \n",
            "                                                                 \n",
            " dense_5 (Dense)             (None, 10)                650       \n",
            "                                                                 \n",
            "=================================================================\n",
            "Total params: 73,418\n",
            "Trainable params: 73,418\n",
            "Non-trainable params: 0\n",
            "_________________________________________________________________\n"
          ]
        }
      ]
    },
    {
      "cell_type": "code",
      "source": [
        "\n",
        "# compile the model\n",
        "model.compile(optimizer=\"adam\" , loss=\"sparse_categorical_crossentropy\" , metrics=[\"accuracy\"])"
      ],
      "metadata": {
        "id": "dRY0YGws_GX4"
      },
      "execution_count": 48,
      "outputs": []
    },
    {
      "cell_type": "code",
      "source": [
        "# train the model\n",
        "model.fit(X_train , y_train , epochs=10 , validation_data=(X_test , y_test))\n",
        "\n"
      ],
      "metadata": {
        "colab": {
          "base_uri": "https://localhost:8080/"
        },
        "id": "IGY2DW2L_M6C",
        "outputId": "b212eefd-6a09-4603-ff70-e3e3f7a53838"
      },
      "execution_count": 49,
      "outputs": [
        {
          "output_type": "stream",
          "name": "stdout",
          "text": [
            "Epoch 1/10\n",
            "1563/1563 [==============================] - 11s 6ms/step - loss: 1.5609 - accuracy: 0.4287 - val_loss: 1.2920 - val_accuracy: 0.5360\n",
            "Epoch 2/10\n",
            "1563/1563 [==============================] - 8s 5ms/step - loss: 1.1929 - accuracy: 0.5761 - val_loss: 1.1059 - val_accuracy: 0.6085\n",
            "Epoch 3/10\n",
            "1563/1563 [==============================] - 7s 5ms/step - loss: 1.0436 - accuracy: 0.6342 - val_loss: 1.0480 - val_accuracy: 0.6295\n",
            "Epoch 4/10\n",
            "1563/1563 [==============================] - 9s 6ms/step - loss: 0.9468 - accuracy: 0.6697 - val_loss: 1.0618 - val_accuracy: 0.6308\n",
            "Epoch 5/10\n",
            "1563/1563 [==============================] - 9s 6ms/step - loss: 0.8844 - accuracy: 0.6921 - val_loss: 0.9441 - val_accuracy: 0.6707\n",
            "Epoch 6/10\n",
            "1563/1563 [==============================] - 7s 5ms/step - loss: 0.8276 - accuracy: 0.7115 - val_loss: 0.9115 - val_accuracy: 0.6865\n",
            "Epoch 7/10\n",
            "1563/1563 [==============================] - 8s 5ms/step - loss: 0.7809 - accuracy: 0.7301 - val_loss: 0.9407 - val_accuracy: 0.6725\n",
            "Epoch 8/10\n",
            "1563/1563 [==============================] - 8s 5ms/step - loss: 0.7468 - accuracy: 0.7405 - val_loss: 0.8823 - val_accuracy: 0.6993\n",
            "Epoch 9/10\n",
            "1563/1563 [==============================] - 8s 5ms/step - loss: 0.7136 - accuracy: 0.7529 - val_loss: 0.9195 - val_accuracy: 0.6915\n",
            "Epoch 10/10\n",
            "1563/1563 [==============================] - 8s 5ms/step - loss: 0.6832 - accuracy: 0.7624 - val_loss: 0.8697 - val_accuracy: 0.7094\n"
          ]
        },
        {
          "output_type": "execute_result",
          "data": {
            "text/plain": [
              "<keras.callbacks.History at 0x7fe420920220>"
            ]
          },
          "metadata": {},
          "execution_count": 49
        }
      ]
    },
    {
      "cell_type": "code",
      "source": [
        "\n",
        "model.evaluate(X_test , y_test)"
      ],
      "metadata": {
        "colab": {
          "base_uri": "https://localhost:8080/"
        },
        "id": "XgnwNc8z_R-z",
        "outputId": "3f8536a8-3b7b-4d28-8f7f-682622141bcf"
      },
      "execution_count": 50,
      "outputs": [
        {
          "output_type": "stream",
          "name": "stdout",
          "text": [
            "313/313 [==============================] - 1s 4ms/step - loss: 0.8697 - accuracy: 0.7094\n"
          ]
        },
        {
          "output_type": "execute_result",
          "data": {
            "text/plain": [
              "[0.8697437644004822, 0.7093999981880188]"
            ]
          },
          "metadata": {},
          "execution_count": 50
        }
      ]
    },
    {
      "cell_type": "code",
      "source": [
        "\n",
        "y_pred = model.predict(X_test)\n",
        "y_pred[:4]"
      ],
      "metadata": {
        "colab": {
          "base_uri": "https://localhost:8080/"
        },
        "id": "Wv31GXWL_Y-G",
        "outputId": "ffd77697-9d2f-406b-fd6b-6f4563045538"
      },
      "execution_count": 51,
      "outputs": [
        {
          "output_type": "stream",
          "name": "stdout",
          "text": [
            "313/313 [==============================] - 1s 2ms/step\n"
          ]
        },
        {
          "output_type": "execute_result",
          "data": {
            "text/plain": [
              "array([[1.6189998e-03, 3.2988919e-05, 1.2649228e-02, 7.0196658e-01,\n",
              "        2.1114156e-03, 2.3777933e-01, 2.3393942e-02, 1.2672107e-03,\n",
              "        1.9074552e-02, 1.0567816e-04],\n",
              "       [1.4702185e-02, 4.8964936e-01, 2.9897083e-05, 9.8984865e-06,\n",
              "        2.7415897e-06, 1.6297580e-06, 1.0092397e-07, 4.1200469e-06,\n",
              "        4.7574833e-01, 1.9851774e-02],\n",
              "       [2.5236813e-02, 3.3427238e-02, 1.4749730e-03, 2.7353759e-03,\n",
              "        1.6028130e-03, 1.4754247e-03, 2.5604412e-04, 3.4182594e-04,\n",
              "        9.1785806e-01, 1.5591448e-02],\n",
              "       [8.6086214e-01, 4.1606086e-03, 8.5631562e-03, 1.7835613e-03,\n",
              "        1.8565286e-03, 9.2343886e-05, 1.5127848e-04, 2.9571835e-04,\n",
              "        1.2095459e-01, 1.2801334e-03]], dtype=float32)"
            ]
          },
          "metadata": {},
          "execution_count": 51
        }
      ]
    },
    {
      "cell_type": "code",
      "source": [
        "\n",
        "y_classes = [np.argmax(element) for element in y_pred]\n",
        "y_classes[:5]"
      ],
      "metadata": {
        "colab": {
          "base_uri": "https://localhost:8080/"
        },
        "id": "HAqYcGuf_d5d",
        "outputId": "9d82d934-c93a-452b-b81c-bb61ac018326"
      },
      "execution_count": 52,
      "outputs": [
        {
          "output_type": "execute_result",
          "data": {
            "text/plain": [
              "[3, 1, 8, 0, 6]"
            ]
          },
          "metadata": {},
          "execution_count": 52
        }
      ]
    },
    {
      "cell_type": "code",
      "source": [
        "y_test = y_test.reshape(-1,)\n",
        "y_test[:5]"
      ],
      "metadata": {
        "colab": {
          "base_uri": "https://localhost:8080/"
        },
        "id": "ph3QO2I1_f0M",
        "outputId": "979cca5b-9030-4f5c-8f60-fa1d0501d38a"
      },
      "execution_count": 53,
      "outputs": [
        {
          "output_type": "execute_result",
          "data": {
            "text/plain": [
              "array([3, 8, 8, 0, 6], dtype=uint8)"
            ]
          },
          "metadata": {},
          "execution_count": 53
        }
      ]
    },
    {
      "cell_type": "code",
      "source": [
        "\n",
        "# save the model\n",
        "\n",
        "model.save(\"my_model.h5\")"
      ],
      "metadata": {
        "id": "eSQCwTP4_jUV"
      },
      "execution_count": 54,
      "outputs": []
    }
  ]
}